{
 "cells": [
  {
   "cell_type": "markdown",
   "id": "f0ee085d-36ac-43d2-a16c-a503b4e7766f",
   "metadata": {},
   "source": [
    "# Backtest of Model-Based Strategies | Price Lags\n",
    "---\n",
    "\n",
    "__Authors:__ Emily Bertani, Max Acheson, Josh Mischung  \n",
    "__Data Source:__ Yahoo Finance accessed by `pandas-datareader` and `yfinance`  \n",
    "__Strategy:__ Vectorized Price Lags  \n",
    "__Instrument(s):__ SPY  \n",
    "\n",
    "__Intended Use:__  \n",
    "The primary objective of this notebook is to determine the optimal ML model(s) a strategy based on lagging percent changes. The model(s) chosen at the end of the notebook can be set as a constant, along with the strategy, allowing for further exploration of feature engineering and hyperparameter tuning."
   ]
  },
  {
   "cell_type": "code",
   "execution_count": null,
   "id": "ca9b293a-e87c-4f81-888e-35f1c4ffde34",
   "metadata": {},
   "outputs": [],
   "source": []
  }
 ],
 "metadata": {
  "kernelspec": {
   "display_name": "Python 3 (ipykernel)",
   "language": "python",
   "name": "python3"
  },
  "language_info": {
   "codemirror_mode": {
    "name": "ipython",
    "version": 3
   },
   "file_extension": ".py",
   "mimetype": "text/x-python",
   "name": "python",
   "nbconvert_exporter": "python",
   "pygments_lexer": "ipython3",
   "version": "3.9.5"
  }
 },
 "nbformat": 4,
 "nbformat_minor": 5
}
